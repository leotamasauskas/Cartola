{
 "cells": [
  {
   "cell_type": "code",
   "execution_count": 1,
   "metadata": {
    "ExecuteTime": {
     "end_time": "2024-01-31T03:03:53.836397600Z",
     "start_time": "2024-01-31T03:03:50.893194400Z"
    }
   },
   "outputs": [
    {
     "data": {
      "text/plain": "[                         Nome    Clube  Preço      J  Média  Últ. Pont.  \\\n 0           Luis Suárez (ATA)      NaN   1952     32    966        1880   \n 1                  Hulk (ATA)      NaN   1914     34    938         460   \n 2               Vegetti (ATA)      NaN   1500     18    796         570   \n 3              Paulinho (ATA)      NaN   1477     36    792         830   \n 4                Marlon (LAT)      NaN   1701     33    785         260   \n 5         Carlos Miguel (GOL)      NaN    317      2    725         950   \n 6                 Arias (MEI)      NaN   1269     29    655        1290   \n 7         Raphael Veiga (MEI)      NaN   1720     31    646         140   \n 8         Abel Ferreira (TEC)      NaN   1483     38    633         347   \n 9       Marcos Leonardo (ATA)      NaN   1195     30    588         130   \n 10                 Tite (TEC)      NaN   1193     11    586         241   \n 11       Pedro Caixinha (TEC)      NaN   1170     36    574         187   \n 12         Marcos Rocha (LAT)      NaN    645     20    572         120   \n 13         Ayrton Lucas (LAT)      NaN   1527     34    569         620   \n 14  Luiz Felipe Scolari (TEC)      NaN   1168     28    562         282   \n 15           Arrascaeta (MEI)      NaN   1336     27    562         300   \n 16               Caíque (GOL)      NaN    398      4    562         300   \n 17        Bruno Pacheco (LAT)      NaN   1091     29    561          50   \n 18       Enner Valencia (ATA)      NaN   1118     22    551         770   \n 19         Luan Cândido (LAT)      NaN    872     20    548         -30   \n 20              William (LAT)      NaN   1026     30    547         260   \n 21                 Hugo (LAT)      NaN    701     21    547         330   \n 22           Villasanti (MEI)      NaN    918     29    540        1040   \n 23       Paulo Henrique (LAT)      NaN    478     13    537         680   \n 24        Paulo Autuori (TEC)      NaN   1153      4    536         402   \n 25              Clayson (ATA)      NaN   1059     21    534        1960   \n 26               Bustos (LAT)      NaN    846     29    532         110   \n 27        Renato Gaúcho (TEC)      NaN   1353     37    530         609   \n 28        Eduardo Sasha (ATA)      NaN   1094     32    530        -100   \n 29          Gabriel Pec (ATA)      NaN   1461     34    527         210   \n 30             Arboleda (ZAG)      NaN    964     20    516         850   \n 31      Bruno Rodrigues (ATA)      NaN   1256     33    516         390   \n 32       Dorival Júnior (TEC)      NaN   1248     35    515         861   \n 33              Marcelo (LAT)      NaN   1229     18    514         210   \n 34             Maurício (MEI)      NaN   1025     26    514        1080   \n 35           Ramón Díaz (TEC)      NaN   1028     21    511         583   \n 36     António Oliveira (TEC)      NaN    906     31    511         824   \n 37               Murilo (ZAG)      NaN    985     25    510         150   \n 38                 Pepê (MEI)      NaN    787     17    509         820   \n 39       Fernando Diniz (TEC)      NaN   1423     36    504         481   \n 40            Zé Rafael (MEI)      NaN   1121     31    503         500   \n 41       Eduardo Coudet (TEC)      NaN   1180     33    501         609   \n 42         Juan Vojvoda (TEC)      NaN   1285     36    499         547   \n 43                Pedro (ATA)      NaN   1247     33    496         250   \n 44              Raniele (MEI)      NaN   1248     33    492         500   \n 45        Caio Paulista (LAT)      NaN   1027     28    489         740   \n 46         Mano Menezes (TEC)      NaN   1170     27    488         828   \n 47      Wesley Carvalho (TEC)      NaN   1144     27    487         164   \n 48                 Renê (LAT)      NaN    961     28    481         100   \n 49            Léo Ortiz (ZAG)      NaN    892     19    481         850   \n 50                      12345  12345.0  12345  12345  12345       12345   \n \n     Variação    MPV       DS        G  ...       GC       CV       CA  \\\n 0         89   1257     11.0     16.0  ...      NaN      NaN      8.0   \n 1       -149   1294     19.0     15.0  ...      NaN      2.0      8.0   \n 2         47    310      8.0      9.0  ...      NaN      1.0      1.0   \n 3         -2    797     49.0     20.0  ...      NaN      NaN      3.0   \n 4       -138   1055    121.0      3.0  ...      NaN      NaN      7.0   \n 5         85    638      NaN      NaN  ...      NaN      NaN      NaN   \n 6        -35   1426     42.0      7.0  ...      NaN      1.0      5.0   \n 7        -31    387     20.0      9.0  ...      NaN      NaN      5.0   \n 8        -80    815      NaN      NaN  ...      NaN      NaN      NaN   \n 9         21     57      4.0     12.0  ...      NaN      NaN      3.0   \n 10       -46    487      NaN      NaN  ...      NaN      NaN      NaN   \n 11       -91    715      NaN      NaN  ...      NaN      NaN      NaN   \n 12       -72    503     34.0      1.0  ...      NaN      NaN      1.0   \n 13        96    114     52.0      4.0  ...      NaN      NaN      7.0   \n 14       -44    541      NaN      NaN  ...      NaN      NaN      NaN   \n 15      -117    971     26.0      6.0  ...      NaN      NaN      3.0   \n 16       -44    496      NaN      NaN  ...      NaN      NaN      NaN   \n 17        -1    119     60.0      2.0  ...      NaN      NaN      4.0   \n 18        99    210      7.0      9.0  ...      NaN      NaN      4.0   \n 19      -127    693     20.0      1.0  ...      NaN      NaN      2.0   \n 20       -39    510     61.0      NaN  ...      NaN      NaN      6.0   \n 21       -50    582     43.0      NaN  ...      NaN      NaN      1.0   \n 22       116    328     82.0      4.0  ...      NaN      1.0      6.0   \n 23        46    426     22.0      1.0  ...      NaN      NaN      3.0   \n 24        -9    494      NaN      NaN  ...      NaN      NaN      NaN   \n 25       214    691     17.0      7.0  ...      NaN      1.0      1.0   \n 26       -72    517     52.0      3.0  ...      NaN      NaN      4.0   \n 27       -16    704      NaN      NaN  ...      NaN      NaN      NaN   \n 28      -112    573     12.0     11.0  ...      NaN      NaN      4.0   \n 29         3    253     38.0      7.0  ...      NaN      NaN      6.0   \n 30       121    142     27.0      NaN  ...      NaN      1.0      1.0   \n 31        57    109     30.0      6.0  ...      NaN      NaN      4.0   \n 32        79    405      NaN      NaN  ...      NaN      NaN      NaN   \n 33       -40    488     24.0      1.0  ...      NaN      NaN      3.0   \n 34         8    963     15.0      6.0  ...      NaN      NaN      4.0   \n 35        57    270      NaN      NaN  ...      NaN      NaN      NaN   \n 36       100    230      NaN      NaN  ...      NaN      NaN      NaN   \n 37      -136    916     35.0      3.0  ...      NaN      1.0      4.0   \n 38        58    441     42.0      1.0  ...      NaN      NaN      1.0   \n 39        47    254      NaN      NaN  ...      NaN      NaN      NaN   \n 40       -42    729     76.0      3.0  ...      NaN      NaN     10.0   \n 41        29    449      NaN      NaN  ...      NaN      NaN      NaN   \n 42       -13    630      NaN      NaN  ...      NaN      NaN      NaN   \n 43       -92    796     15.0     13.0  ...      NaN      NaN      1.0   \n 44        53    229     74.0      3.0  ...      NaN      NaN     10.0   \n 45        81    272     26.0      1.0  ...      NaN      NaN      4.0   \n 46        97    274      NaN      NaN  ...      NaN      NaN      NaN   \n 47       -95    720      NaN      NaN  ...      NaN      NaN      NaN   \n 48       -34    323     52.0      1.0  ...      NaN      NaN      5.0   \n 49       -88   1274     23.0      2.0  ...      1.0      NaN      3.0   \n 50     12345  12345  12345.0  12345.0  ...  12345.0  12345.0  12345.0   \n \n          PP       GS       FC        I       PS       PC       PI  \n 0       1.0      NaN     31.0     24.0      1.0      NaN      NaN  \n 1       NaN      NaN     53.0     21.0      2.0      NaN      NaN  \n 2       NaN      NaN     27.0     12.0      1.0      NaN      NaN  \n 3       NaN      NaN     21.0     10.0      NaN      NaN      NaN  \n 4       NaN      NaN     37.0      1.0      NaN      NaN      NaN  \n 5       NaN      NaN      NaN      NaN      NaN      NaN      NaN  \n 6       NaN      NaN     41.0      9.0      1.0      NaN      NaN  \n 7       1.0      NaN     35.0      6.0      NaN      NaN      NaN  \n 8       NaN      NaN      NaN      NaN      NaN      NaN      NaN  \n 9       NaN      NaN     36.0     23.0      1.0      NaN      NaN  \n 10      NaN      NaN      NaN      NaN      NaN      NaN      NaN  \n 11      NaN      NaN      NaN      NaN      NaN      NaN      NaN  \n 12      NaN      NaN     19.0      1.0      NaN      1.0      NaN  \n 13      NaN      NaN     38.0      NaN      1.0      NaN      NaN  \n 14      NaN      NaN      NaN      NaN      NaN      NaN      NaN  \n 15      NaN      NaN     22.0      4.0      1.0      NaN      NaN  \n 16      NaN      3.0      NaN      NaN      NaN      NaN      NaN  \n 17      NaN      NaN     49.0      NaN      NaN      NaN      NaN  \n 18      1.0      NaN     24.0     22.0      1.0      NaN      NaN  \n 19      NaN      NaN     18.0      1.0      NaN      NaN      NaN  \n 20      NaN      NaN     39.0      1.0      NaN      NaN      NaN  \n 21      NaN      NaN     29.0      NaN      NaN      NaN      NaN  \n 22      NaN      NaN     53.0      1.0      NaN      NaN      NaN  \n 23      NaN      NaN     13.0      1.0      NaN      NaN      NaN  \n 24      NaN      NaN      NaN      NaN      NaN      NaN      NaN  \n 25      NaN      NaN     17.0      4.0      1.0      NaN      NaN  \n 26      NaN      NaN     35.0      1.0      NaN      NaN      NaN  \n 27      NaN      NaN      NaN      NaN      NaN      NaN      NaN  \n 28      NaN      NaN     22.0      9.0      NaN      NaN      NaN  \n 29      NaN      NaN     34.0      6.0      NaN      NaN      NaN  \n 30      NaN      NaN      7.0      5.0      NaN      NaN      NaN  \n 31      2.0      NaN     23.0     26.0      2.0      NaN      NaN  \n 32      NaN      NaN      NaN      NaN      NaN      NaN      NaN  \n 33      NaN      NaN      7.0      1.0      NaN      NaN      NaN  \n 34      NaN      NaN     17.0      4.0      1.0      NaN      NaN  \n 35      NaN      NaN      NaN      NaN      NaN      NaN      NaN  \n 36      NaN      NaN      NaN      NaN      NaN      NaN      NaN  \n 37      NaN      NaN     32.0      2.0      NaN      NaN      NaN  \n 38      NaN      NaN     27.0      1.0      NaN      NaN      NaN  \n 39      NaN      NaN      NaN      NaN      NaN      NaN      NaN  \n 40      NaN      NaN     62.0      1.0      1.0      NaN      NaN  \n 41      NaN      NaN      NaN      NaN      NaN      NaN      NaN  \n 42      NaN      NaN      NaN      NaN      NaN      NaN      NaN  \n 43      NaN      NaN     17.0      2.0      1.0      NaN      NaN  \n 44      NaN      NaN     35.0      1.0      NaN      1.0      NaN  \n 45      NaN      NaN     17.0      NaN      1.0      1.0      NaN  \n 46      NaN      NaN      NaN      NaN      NaN      NaN      NaN  \n 47      NaN      NaN      NaN      NaN      NaN      NaN      NaN  \n 48      NaN      NaN     21.0      1.0      NaN      NaN      NaN  \n 49      NaN      NaN     12.0      NaN      NaN      1.0      NaN  \n 50  12345.0  12345.0  12345.0  12345.0  12345.0  12345.0  12345.0  \n \n [51 rows x 28 columns],\n    0  1  2  3  4\n 0  1  2  3  4  5]"
     },
     "execution_count": 1,
     "metadata": {},
     "output_type": "execute_result"
    }
   ],
   "source": [
    "import pandas as pd\n",
    "import requests \n",
    "\n",
    "\n",
    "header = {'User-Agent': 'Mozilla/5.0 (Windows NT 10.0; Win64; x64) AppleWebKit/537.36 (KHTML, like Gecko) Chrome/112.0.0.0 Safari/537.36' }\n",
    "\n",
    "url = 'https://www.cartolafcbrasil.com.br/scouts' \n",
    "request = requests.get(url, headers = header)\n",
    "df = pd.read_html(request.text)\n",
    "df\n"
   ]
  },
  {
   "cell_type": "code",
   "execution_count": 2,
   "metadata": {
    "ExecuteTime": {
     "end_time": "2024-01-31T03:04:04.795396400Z",
     "start_time": "2024-01-31T03:04:04.728763500Z"
    }
   },
   "outputs": [
    {
     "name": "stdout",
     "output_type": "stream",
     "text": [
      "0\n",
      "                         Nome    Clube  Preço      J  Média  Últ. Pont.  \\\n",
      "0           Luis Suárez (ATA)      NaN   1952     32    966        1880   \n",
      "1                  Hulk (ATA)      NaN   1914     34    938         460   \n",
      "2               Vegetti (ATA)      NaN   1500     18    796         570   \n",
      "3              Paulinho (ATA)      NaN   1477     36    792         830   \n",
      "4                Marlon (LAT)      NaN   1701     33    785         260   \n",
      "5         Carlos Miguel (GOL)      NaN    317      2    725         950   \n",
      "6                 Arias (MEI)      NaN   1269     29    655        1290   \n",
      "7         Raphael Veiga (MEI)      NaN   1720     31    646         140   \n",
      "8         Abel Ferreira (TEC)      NaN   1483     38    633         347   \n",
      "9       Marcos Leonardo (ATA)      NaN   1195     30    588         130   \n",
      "10                 Tite (TEC)      NaN   1193     11    586         241   \n",
      "11       Pedro Caixinha (TEC)      NaN   1170     36    574         187   \n",
      "12         Marcos Rocha (LAT)      NaN    645     20    572         120   \n",
      "13         Ayrton Lucas (LAT)      NaN   1527     34    569         620   \n",
      "14  Luiz Felipe Scolari (TEC)      NaN   1168     28    562         282   \n",
      "15           Arrascaeta (MEI)      NaN   1336     27    562         300   \n",
      "16               Caíque (GOL)      NaN    398      4    562         300   \n",
      "17        Bruno Pacheco (LAT)      NaN   1091     29    561          50   \n",
      "18       Enner Valencia (ATA)      NaN   1118     22    551         770   \n",
      "19         Luan Cândido (LAT)      NaN    872     20    548         -30   \n",
      "20              William (LAT)      NaN   1026     30    547         260   \n",
      "21                 Hugo (LAT)      NaN    701     21    547         330   \n",
      "22           Villasanti (MEI)      NaN    918     29    540        1040   \n",
      "23       Paulo Henrique (LAT)      NaN    478     13    537         680   \n",
      "24        Paulo Autuori (TEC)      NaN   1153      4    536         402   \n",
      "25              Clayson (ATA)      NaN   1059     21    534        1960   \n",
      "26               Bustos (LAT)      NaN    846     29    532         110   \n",
      "27        Renato Gaúcho (TEC)      NaN   1353     37    530         609   \n",
      "28        Eduardo Sasha (ATA)      NaN   1094     32    530        -100   \n",
      "29          Gabriel Pec (ATA)      NaN   1461     34    527         210   \n",
      "30             Arboleda (ZAG)      NaN    964     20    516         850   \n",
      "31      Bruno Rodrigues (ATA)      NaN   1256     33    516         390   \n",
      "32       Dorival Júnior (TEC)      NaN   1248     35    515         861   \n",
      "33              Marcelo (LAT)      NaN   1229     18    514         210   \n",
      "34             Maurício (MEI)      NaN   1025     26    514        1080   \n",
      "35           Ramón Díaz (TEC)      NaN   1028     21    511         583   \n",
      "36     António Oliveira (TEC)      NaN    906     31    511         824   \n",
      "37               Murilo (ZAG)      NaN    985     25    510         150   \n",
      "38                 Pepê (MEI)      NaN    787     17    509         820   \n",
      "39       Fernando Diniz (TEC)      NaN   1423     36    504         481   \n",
      "40            Zé Rafael (MEI)      NaN   1121     31    503         500   \n",
      "41       Eduardo Coudet (TEC)      NaN   1180     33    501         609   \n",
      "42         Juan Vojvoda (TEC)      NaN   1285     36    499         547   \n",
      "43                Pedro (ATA)      NaN   1247     33    496         250   \n",
      "44              Raniele (MEI)      NaN   1248     33    492         500   \n",
      "45        Caio Paulista (LAT)      NaN   1027     28    489         740   \n",
      "46         Mano Menezes (TEC)      NaN   1170     27    488         828   \n",
      "47      Wesley Carvalho (TEC)      NaN   1144     27    487         164   \n",
      "48                 Renê (LAT)      NaN    961     28    481         100   \n",
      "49            Léo Ortiz (ZAG)      NaN    892     19    481         850   \n",
      "50                      12345  12345.0  12345  12345  12345       12345   \n",
      "\n",
      "    Variação    MPV       DS        G  ...       GC       CV       CA  \\\n",
      "0         89   1257     11.0     16.0  ...      NaN      NaN      8.0   \n",
      "1       -149   1294     19.0     15.0  ...      NaN      2.0      8.0   \n",
      "2         47    310      8.0      9.0  ...      NaN      1.0      1.0   \n",
      "3         -2    797     49.0     20.0  ...      NaN      NaN      3.0   \n",
      "4       -138   1055    121.0      3.0  ...      NaN      NaN      7.0   \n",
      "5         85    638      NaN      NaN  ...      NaN      NaN      NaN   \n",
      "6        -35   1426     42.0      7.0  ...      NaN      1.0      5.0   \n",
      "7        -31    387     20.0      9.0  ...      NaN      NaN      5.0   \n",
      "8        -80    815      NaN      NaN  ...      NaN      NaN      NaN   \n",
      "9         21     57      4.0     12.0  ...      NaN      NaN      3.0   \n",
      "10       -46    487      NaN      NaN  ...      NaN      NaN      NaN   \n",
      "11       -91    715      NaN      NaN  ...      NaN      NaN      NaN   \n",
      "12       -72    503     34.0      1.0  ...      NaN      NaN      1.0   \n",
      "13        96    114     52.0      4.0  ...      NaN      NaN      7.0   \n",
      "14       -44    541      NaN      NaN  ...      NaN      NaN      NaN   \n",
      "15      -117    971     26.0      6.0  ...      NaN      NaN      3.0   \n",
      "16       -44    496      NaN      NaN  ...      NaN      NaN      NaN   \n",
      "17        -1    119     60.0      2.0  ...      NaN      NaN      4.0   \n",
      "18        99    210      7.0      9.0  ...      NaN      NaN      4.0   \n",
      "19      -127    693     20.0      1.0  ...      NaN      NaN      2.0   \n",
      "20       -39    510     61.0      NaN  ...      NaN      NaN      6.0   \n",
      "21       -50    582     43.0      NaN  ...      NaN      NaN      1.0   \n",
      "22       116    328     82.0      4.0  ...      NaN      1.0      6.0   \n",
      "23        46    426     22.0      1.0  ...      NaN      NaN      3.0   \n",
      "24        -9    494      NaN      NaN  ...      NaN      NaN      NaN   \n",
      "25       214    691     17.0      7.0  ...      NaN      1.0      1.0   \n",
      "26       -72    517     52.0      3.0  ...      NaN      NaN      4.0   \n",
      "27       -16    704      NaN      NaN  ...      NaN      NaN      NaN   \n",
      "28      -112    573     12.0     11.0  ...      NaN      NaN      4.0   \n",
      "29         3    253     38.0      7.0  ...      NaN      NaN      6.0   \n",
      "30       121    142     27.0      NaN  ...      NaN      1.0      1.0   \n",
      "31        57    109     30.0      6.0  ...      NaN      NaN      4.0   \n",
      "32        79    405      NaN      NaN  ...      NaN      NaN      NaN   \n",
      "33       -40    488     24.0      1.0  ...      NaN      NaN      3.0   \n",
      "34         8    963     15.0      6.0  ...      NaN      NaN      4.0   \n",
      "35        57    270      NaN      NaN  ...      NaN      NaN      NaN   \n",
      "36       100    230      NaN      NaN  ...      NaN      NaN      NaN   \n",
      "37      -136    916     35.0      3.0  ...      NaN      1.0      4.0   \n",
      "38        58    441     42.0      1.0  ...      NaN      NaN      1.0   \n",
      "39        47    254      NaN      NaN  ...      NaN      NaN      NaN   \n",
      "40       -42    729     76.0      3.0  ...      NaN      NaN     10.0   \n",
      "41        29    449      NaN      NaN  ...      NaN      NaN      NaN   \n",
      "42       -13    630      NaN      NaN  ...      NaN      NaN      NaN   \n",
      "43       -92    796     15.0     13.0  ...      NaN      NaN      1.0   \n",
      "44        53    229     74.0      3.0  ...      NaN      NaN     10.0   \n",
      "45        81    272     26.0      1.0  ...      NaN      NaN      4.0   \n",
      "46        97    274      NaN      NaN  ...      NaN      NaN      NaN   \n",
      "47       -95    720      NaN      NaN  ...      NaN      NaN      NaN   \n",
      "48       -34    323     52.0      1.0  ...      NaN      NaN      5.0   \n",
      "49       -88   1274     23.0      2.0  ...      1.0      NaN      3.0   \n",
      "50     12345  12345  12345.0  12345.0  ...  12345.0  12345.0  12345.0   \n",
      "\n",
      "         PP       GS       FC        I       PS       PC       PI  \n",
      "0       1.0      NaN     31.0     24.0      1.0      NaN      NaN  \n",
      "1       NaN      NaN     53.0     21.0      2.0      NaN      NaN  \n",
      "2       NaN      NaN     27.0     12.0      1.0      NaN      NaN  \n",
      "3       NaN      NaN     21.0     10.0      NaN      NaN      NaN  \n",
      "4       NaN      NaN     37.0      1.0      NaN      NaN      NaN  \n",
      "5       NaN      NaN      NaN      NaN      NaN      NaN      NaN  \n",
      "6       NaN      NaN     41.0      9.0      1.0      NaN      NaN  \n",
      "7       1.0      NaN     35.0      6.0      NaN      NaN      NaN  \n",
      "8       NaN      NaN      NaN      NaN      NaN      NaN      NaN  \n",
      "9       NaN      NaN     36.0     23.0      1.0      NaN      NaN  \n",
      "10      NaN      NaN      NaN      NaN      NaN      NaN      NaN  \n",
      "11      NaN      NaN      NaN      NaN      NaN      NaN      NaN  \n",
      "12      NaN      NaN     19.0      1.0      NaN      1.0      NaN  \n",
      "13      NaN      NaN     38.0      NaN      1.0      NaN      NaN  \n",
      "14      NaN      NaN      NaN      NaN      NaN      NaN      NaN  \n",
      "15      NaN      NaN     22.0      4.0      1.0      NaN      NaN  \n",
      "16      NaN      3.0      NaN      NaN      NaN      NaN      NaN  \n",
      "17      NaN      NaN     49.0      NaN      NaN      NaN      NaN  \n",
      "18      1.0      NaN     24.0     22.0      1.0      NaN      NaN  \n",
      "19      NaN      NaN     18.0      1.0      NaN      NaN      NaN  \n",
      "20      NaN      NaN     39.0      1.0      NaN      NaN      NaN  \n",
      "21      NaN      NaN     29.0      NaN      NaN      NaN      NaN  \n",
      "22      NaN      NaN     53.0      1.0      NaN      NaN      NaN  \n",
      "23      NaN      NaN     13.0      1.0      NaN      NaN      NaN  \n",
      "24      NaN      NaN      NaN      NaN      NaN      NaN      NaN  \n",
      "25      NaN      NaN     17.0      4.0      1.0      NaN      NaN  \n",
      "26      NaN      NaN     35.0      1.0      NaN      NaN      NaN  \n",
      "27      NaN      NaN      NaN      NaN      NaN      NaN      NaN  \n",
      "28      NaN      NaN     22.0      9.0      NaN      NaN      NaN  \n",
      "29      NaN      NaN     34.0      6.0      NaN      NaN      NaN  \n",
      "30      NaN      NaN      7.0      5.0      NaN      NaN      NaN  \n",
      "31      2.0      NaN     23.0     26.0      2.0      NaN      NaN  \n",
      "32      NaN      NaN      NaN      NaN      NaN      NaN      NaN  \n",
      "33      NaN      NaN      7.0      1.0      NaN      NaN      NaN  \n",
      "34      NaN      NaN     17.0      4.0      1.0      NaN      NaN  \n",
      "35      NaN      NaN      NaN      NaN      NaN      NaN      NaN  \n",
      "36      NaN      NaN      NaN      NaN      NaN      NaN      NaN  \n",
      "37      NaN      NaN     32.0      2.0      NaN      NaN      NaN  \n",
      "38      NaN      NaN     27.0      1.0      NaN      NaN      NaN  \n",
      "39      NaN      NaN      NaN      NaN      NaN      NaN      NaN  \n",
      "40      NaN      NaN     62.0      1.0      1.0      NaN      NaN  \n",
      "41      NaN      NaN      NaN      NaN      NaN      NaN      NaN  \n",
      "42      NaN      NaN      NaN      NaN      NaN      NaN      NaN  \n",
      "43      NaN      NaN     17.0      2.0      1.0      NaN      NaN  \n",
      "44      NaN      NaN     35.0      1.0      NaN      1.0      NaN  \n",
      "45      NaN      NaN     17.0      NaN      1.0      1.0      NaN  \n",
      "46      NaN      NaN      NaN      NaN      NaN      NaN      NaN  \n",
      "47      NaN      NaN      NaN      NaN      NaN      NaN      NaN  \n",
      "48      NaN      NaN     21.0      1.0      NaN      NaN      NaN  \n",
      "49      NaN      NaN     12.0      NaN      NaN      1.0      NaN  \n",
      "50  12345.0  12345.0  12345.0  12345.0  12345.0  12345.0  12345.0  \n",
      "\n",
      "[51 rows x 28 columns]\n",
      "1\n",
      "   0  1  2  3  4\n",
      "0  1  2  3  4  5\n"
     ]
    }
   ],
   "source": [
    "for i, tabela in enumerate(df):\n",
    "    print(i)\n",
    "    print(tabela)"
   ]
  },
  {
   "cell_type": "code",
   "execution_count": 3,
   "metadata": {
    "ExecuteTime": {
     "end_time": "2024-01-31T03:04:08.295541300Z",
     "start_time": "2024-01-31T03:04:08.274657500Z"
    }
   },
   "outputs": [],
   "source": [
    "df = pd.DataFrame(df[0])"
   ]
  },
  {
   "cell_type": "code",
   "execution_count": 4,
   "metadata": {
    "ExecuteTime": {
     "end_time": "2024-01-31T03:04:13.799053800Z",
     "start_time": "2024-01-31T03:04:13.700927600Z"
    }
   },
   "outputs": [
    {
     "data": {
      "text/plain": "                         Nome    Clube  Preço      J  Média  Últ. Pont.  \\\n0           Luis Suárez (ATA)      NaN   1952     32    966        1880   \n1                  Hulk (ATA)      NaN   1914     34    938         460   \n2               Vegetti (ATA)      NaN   1500     18    796         570   \n3              Paulinho (ATA)      NaN   1477     36    792         830   \n4                Marlon (LAT)      NaN   1701     33    785         260   \n5         Carlos Miguel (GOL)      NaN    317      2    725         950   \n6                 Arias (MEI)      NaN   1269     29    655        1290   \n7         Raphael Veiga (MEI)      NaN   1720     31    646         140   \n8         Abel Ferreira (TEC)      NaN   1483     38    633         347   \n9       Marcos Leonardo (ATA)      NaN   1195     30    588         130   \n10                 Tite (TEC)      NaN   1193     11    586         241   \n11       Pedro Caixinha (TEC)      NaN   1170     36    574         187   \n12         Marcos Rocha (LAT)      NaN    645     20    572         120   \n13         Ayrton Lucas (LAT)      NaN   1527     34    569         620   \n14  Luiz Felipe Scolari (TEC)      NaN   1168     28    562         282   \n15           Arrascaeta (MEI)      NaN   1336     27    562         300   \n16               Caíque (GOL)      NaN    398      4    562         300   \n17        Bruno Pacheco (LAT)      NaN   1091     29    561          50   \n18       Enner Valencia (ATA)      NaN   1118     22    551         770   \n19         Luan Cândido (LAT)      NaN    872     20    548         -30   \n20              William (LAT)      NaN   1026     30    547         260   \n21                 Hugo (LAT)      NaN    701     21    547         330   \n22           Villasanti (MEI)      NaN    918     29    540        1040   \n23       Paulo Henrique (LAT)      NaN    478     13    537         680   \n24        Paulo Autuori (TEC)      NaN   1153      4    536         402   \n25              Clayson (ATA)      NaN   1059     21    534        1960   \n26               Bustos (LAT)      NaN    846     29    532         110   \n27        Renato Gaúcho (TEC)      NaN   1353     37    530         609   \n28        Eduardo Sasha (ATA)      NaN   1094     32    530        -100   \n29          Gabriel Pec (ATA)      NaN   1461     34    527         210   \n30             Arboleda (ZAG)      NaN    964     20    516         850   \n31      Bruno Rodrigues (ATA)      NaN   1256     33    516         390   \n32       Dorival Júnior (TEC)      NaN   1248     35    515         861   \n33              Marcelo (LAT)      NaN   1229     18    514         210   \n34             Maurício (MEI)      NaN   1025     26    514        1080   \n35           Ramón Díaz (TEC)      NaN   1028     21    511         583   \n36     António Oliveira (TEC)      NaN    906     31    511         824   \n37               Murilo (ZAG)      NaN    985     25    510         150   \n38                 Pepê (MEI)      NaN    787     17    509         820   \n39       Fernando Diniz (TEC)      NaN   1423     36    504         481   \n40            Zé Rafael (MEI)      NaN   1121     31    503         500   \n41       Eduardo Coudet (TEC)      NaN   1180     33    501         609   \n42         Juan Vojvoda (TEC)      NaN   1285     36    499         547   \n43                Pedro (ATA)      NaN   1247     33    496         250   \n44              Raniele (MEI)      NaN   1248     33    492         500   \n45        Caio Paulista (LAT)      NaN   1027     28    489         740   \n46         Mano Menezes (TEC)      NaN   1170     27    488         828   \n47      Wesley Carvalho (TEC)      NaN   1144     27    487         164   \n48                 Renê (LAT)      NaN    961     28    481         100   \n49            Léo Ortiz (ZAG)      NaN    892     19    481         850   \n50                      12345  12345.0  12345  12345  12345       12345   \n\n    Variação    MPV       DS        G  ...       GC       CV       CA  \\\n0         89   1257     11.0     16.0  ...      NaN      NaN      8.0   \n1       -149   1294     19.0     15.0  ...      NaN      2.0      8.0   \n2         47    310      8.0      9.0  ...      NaN      1.0      1.0   \n3         -2    797     49.0     20.0  ...      NaN      NaN      3.0   \n4       -138   1055    121.0      3.0  ...      NaN      NaN      7.0   \n5         85    638      NaN      NaN  ...      NaN      NaN      NaN   \n6        -35   1426     42.0      7.0  ...      NaN      1.0      5.0   \n7        -31    387     20.0      9.0  ...      NaN      NaN      5.0   \n8        -80    815      NaN      NaN  ...      NaN      NaN      NaN   \n9         21     57      4.0     12.0  ...      NaN      NaN      3.0   \n10       -46    487      NaN      NaN  ...      NaN      NaN      NaN   \n11       -91    715      NaN      NaN  ...      NaN      NaN      NaN   \n12       -72    503     34.0      1.0  ...      NaN      NaN      1.0   \n13        96    114     52.0      4.0  ...      NaN      NaN      7.0   \n14       -44    541      NaN      NaN  ...      NaN      NaN      NaN   \n15      -117    971     26.0      6.0  ...      NaN      NaN      3.0   \n16       -44    496      NaN      NaN  ...      NaN      NaN      NaN   \n17        -1    119     60.0      2.0  ...      NaN      NaN      4.0   \n18        99    210      7.0      9.0  ...      NaN      NaN      4.0   \n19      -127    693     20.0      1.0  ...      NaN      NaN      2.0   \n20       -39    510     61.0      NaN  ...      NaN      NaN      6.0   \n21       -50    582     43.0      NaN  ...      NaN      NaN      1.0   \n22       116    328     82.0      4.0  ...      NaN      1.0      6.0   \n23        46    426     22.0      1.0  ...      NaN      NaN      3.0   \n24        -9    494      NaN      NaN  ...      NaN      NaN      NaN   \n25       214    691     17.0      7.0  ...      NaN      1.0      1.0   \n26       -72    517     52.0      3.0  ...      NaN      NaN      4.0   \n27       -16    704      NaN      NaN  ...      NaN      NaN      NaN   \n28      -112    573     12.0     11.0  ...      NaN      NaN      4.0   \n29         3    253     38.0      7.0  ...      NaN      NaN      6.0   \n30       121    142     27.0      NaN  ...      NaN      1.0      1.0   \n31        57    109     30.0      6.0  ...      NaN      NaN      4.0   \n32        79    405      NaN      NaN  ...      NaN      NaN      NaN   \n33       -40    488     24.0      1.0  ...      NaN      NaN      3.0   \n34         8    963     15.0      6.0  ...      NaN      NaN      4.0   \n35        57    270      NaN      NaN  ...      NaN      NaN      NaN   \n36       100    230      NaN      NaN  ...      NaN      NaN      NaN   \n37      -136    916     35.0      3.0  ...      NaN      1.0      4.0   \n38        58    441     42.0      1.0  ...      NaN      NaN      1.0   \n39        47    254      NaN      NaN  ...      NaN      NaN      NaN   \n40       -42    729     76.0      3.0  ...      NaN      NaN     10.0   \n41        29    449      NaN      NaN  ...      NaN      NaN      NaN   \n42       -13    630      NaN      NaN  ...      NaN      NaN      NaN   \n43       -92    796     15.0     13.0  ...      NaN      NaN      1.0   \n44        53    229     74.0      3.0  ...      NaN      NaN     10.0   \n45        81    272     26.0      1.0  ...      NaN      NaN      4.0   \n46        97    274      NaN      NaN  ...      NaN      NaN      NaN   \n47       -95    720      NaN      NaN  ...      NaN      NaN      NaN   \n48       -34    323     52.0      1.0  ...      NaN      NaN      5.0   \n49       -88   1274     23.0      2.0  ...      1.0      NaN      3.0   \n50     12345  12345  12345.0  12345.0  ...  12345.0  12345.0  12345.0   \n\n         PP       GS       FC        I       PS       PC       PI  \n0       1.0      NaN     31.0     24.0      1.0      NaN      NaN  \n1       NaN      NaN     53.0     21.0      2.0      NaN      NaN  \n2       NaN      NaN     27.0     12.0      1.0      NaN      NaN  \n3       NaN      NaN     21.0     10.0      NaN      NaN      NaN  \n4       NaN      NaN     37.0      1.0      NaN      NaN      NaN  \n5       NaN      NaN      NaN      NaN      NaN      NaN      NaN  \n6       NaN      NaN     41.0      9.0      1.0      NaN      NaN  \n7       1.0      NaN     35.0      6.0      NaN      NaN      NaN  \n8       NaN      NaN      NaN      NaN      NaN      NaN      NaN  \n9       NaN      NaN     36.0     23.0      1.0      NaN      NaN  \n10      NaN      NaN      NaN      NaN      NaN      NaN      NaN  \n11      NaN      NaN      NaN      NaN      NaN      NaN      NaN  \n12      NaN      NaN     19.0      1.0      NaN      1.0      NaN  \n13      NaN      NaN     38.0      NaN      1.0      NaN      NaN  \n14      NaN      NaN      NaN      NaN      NaN      NaN      NaN  \n15      NaN      NaN     22.0      4.0      1.0      NaN      NaN  \n16      NaN      3.0      NaN      NaN      NaN      NaN      NaN  \n17      NaN      NaN     49.0      NaN      NaN      NaN      NaN  \n18      1.0      NaN     24.0     22.0      1.0      NaN      NaN  \n19      NaN      NaN     18.0      1.0      NaN      NaN      NaN  \n20      NaN      NaN     39.0      1.0      NaN      NaN      NaN  \n21      NaN      NaN     29.0      NaN      NaN      NaN      NaN  \n22      NaN      NaN     53.0      1.0      NaN      NaN      NaN  \n23      NaN      NaN     13.0      1.0      NaN      NaN      NaN  \n24      NaN      NaN      NaN      NaN      NaN      NaN      NaN  \n25      NaN      NaN     17.0      4.0      1.0      NaN      NaN  \n26      NaN      NaN     35.0      1.0      NaN      NaN      NaN  \n27      NaN      NaN      NaN      NaN      NaN      NaN      NaN  \n28      NaN      NaN     22.0      9.0      NaN      NaN      NaN  \n29      NaN      NaN     34.0      6.0      NaN      NaN      NaN  \n30      NaN      NaN      7.0      5.0      NaN      NaN      NaN  \n31      2.0      NaN     23.0     26.0      2.0      NaN      NaN  \n32      NaN      NaN      NaN      NaN      NaN      NaN      NaN  \n33      NaN      NaN      7.0      1.0      NaN      NaN      NaN  \n34      NaN      NaN     17.0      4.0      1.0      NaN      NaN  \n35      NaN      NaN      NaN      NaN      NaN      NaN      NaN  \n36      NaN      NaN      NaN      NaN      NaN      NaN      NaN  \n37      NaN      NaN     32.0      2.0      NaN      NaN      NaN  \n38      NaN      NaN     27.0      1.0      NaN      NaN      NaN  \n39      NaN      NaN      NaN      NaN      NaN      NaN      NaN  \n40      NaN      NaN     62.0      1.0      1.0      NaN      NaN  \n41      NaN      NaN      NaN      NaN      NaN      NaN      NaN  \n42      NaN      NaN      NaN      NaN      NaN      NaN      NaN  \n43      NaN      NaN     17.0      2.0      1.0      NaN      NaN  \n44      NaN      NaN     35.0      1.0      NaN      1.0      NaN  \n45      NaN      NaN     17.0      NaN      1.0      1.0      NaN  \n46      NaN      NaN      NaN      NaN      NaN      NaN      NaN  \n47      NaN      NaN      NaN      NaN      NaN      NaN      NaN  \n48      NaN      NaN     21.0      1.0      NaN      NaN      NaN  \n49      NaN      NaN     12.0      NaN      NaN      1.0      NaN  \n50  12345.0  12345.0  12345.0  12345.0  12345.0  12345.0  12345.0  \n\n[51 rows x 28 columns]",
      "text/html": "<div>\n<style scoped>\n    .dataframe tbody tr th:only-of-type {\n        vertical-align: middle;\n    }\n\n    .dataframe tbody tr th {\n        vertical-align: top;\n    }\n\n    .dataframe thead th {\n        text-align: right;\n    }\n</style>\n<table border=\"1\" class=\"dataframe\">\n  <thead>\n    <tr style=\"text-align: right;\">\n      <th></th>\n      <th>Nome</th>\n      <th>Clube</th>\n      <th>Preço</th>\n      <th>J</th>\n      <th>Média</th>\n      <th>Últ. Pont.</th>\n      <th>Variação</th>\n      <th>MPV</th>\n      <th>DS</th>\n      <th>G</th>\n      <th>...</th>\n      <th>GC</th>\n      <th>CV</th>\n      <th>CA</th>\n      <th>PP</th>\n      <th>GS</th>\n      <th>FC</th>\n      <th>I</th>\n      <th>PS</th>\n      <th>PC</th>\n      <th>PI</th>\n    </tr>\n  </thead>\n  <tbody>\n    <tr>\n      <th>0</th>\n      <td>Luis Suárez (ATA)</td>\n      <td>NaN</td>\n      <td>1952</td>\n      <td>32</td>\n      <td>966</td>\n      <td>1880</td>\n      <td>89</td>\n      <td>1257</td>\n      <td>11.0</td>\n      <td>16.0</td>\n      <td>...</td>\n      <td>NaN</td>\n      <td>NaN</td>\n      <td>8.0</td>\n      <td>1.0</td>\n      <td>NaN</td>\n      <td>31.0</td>\n      <td>24.0</td>\n      <td>1.0</td>\n      <td>NaN</td>\n      <td>NaN</td>\n    </tr>\n    <tr>\n      <th>1</th>\n      <td>Hulk (ATA)</td>\n      <td>NaN</td>\n      <td>1914</td>\n      <td>34</td>\n      <td>938</td>\n      <td>460</td>\n      <td>-149</td>\n      <td>1294</td>\n      <td>19.0</td>\n      <td>15.0</td>\n      <td>...</td>\n      <td>NaN</td>\n      <td>2.0</td>\n      <td>8.0</td>\n      <td>NaN</td>\n      <td>NaN</td>\n      <td>53.0</td>\n      <td>21.0</td>\n      <td>2.0</td>\n      <td>NaN</td>\n      <td>NaN</td>\n    </tr>\n    <tr>\n      <th>2</th>\n      <td>Vegetti (ATA)</td>\n      <td>NaN</td>\n      <td>1500</td>\n      <td>18</td>\n      <td>796</td>\n      <td>570</td>\n      <td>47</td>\n      <td>310</td>\n      <td>8.0</td>\n      <td>9.0</td>\n      <td>...</td>\n      <td>NaN</td>\n      <td>1.0</td>\n      <td>1.0</td>\n      <td>NaN</td>\n      <td>NaN</td>\n      <td>27.0</td>\n      <td>12.0</td>\n      <td>1.0</td>\n      <td>NaN</td>\n      <td>NaN</td>\n    </tr>\n    <tr>\n      <th>3</th>\n      <td>Paulinho (ATA)</td>\n      <td>NaN</td>\n      <td>1477</td>\n      <td>36</td>\n      <td>792</td>\n      <td>830</td>\n      <td>-2</td>\n      <td>797</td>\n      <td>49.0</td>\n      <td>20.0</td>\n      <td>...</td>\n      <td>NaN</td>\n      <td>NaN</td>\n      <td>3.0</td>\n      <td>NaN</td>\n      <td>NaN</td>\n      <td>21.0</td>\n      <td>10.0</td>\n      <td>NaN</td>\n      <td>NaN</td>\n      <td>NaN</td>\n    </tr>\n    <tr>\n      <th>4</th>\n      <td>Marlon (LAT)</td>\n      <td>NaN</td>\n      <td>1701</td>\n      <td>33</td>\n      <td>785</td>\n      <td>260</td>\n      <td>-138</td>\n      <td>1055</td>\n      <td>121.0</td>\n      <td>3.0</td>\n      <td>...</td>\n      <td>NaN</td>\n      <td>NaN</td>\n      <td>7.0</td>\n      <td>NaN</td>\n      <td>NaN</td>\n      <td>37.0</td>\n      <td>1.0</td>\n      <td>NaN</td>\n      <td>NaN</td>\n      <td>NaN</td>\n    </tr>\n    <tr>\n      <th>5</th>\n      <td>Carlos Miguel (GOL)</td>\n      <td>NaN</td>\n      <td>317</td>\n      <td>2</td>\n      <td>725</td>\n      <td>950</td>\n      <td>85</td>\n      <td>638</td>\n      <td>NaN</td>\n      <td>NaN</td>\n      <td>...</td>\n      <td>NaN</td>\n      <td>NaN</td>\n      <td>NaN</td>\n      <td>NaN</td>\n      <td>NaN</td>\n      <td>NaN</td>\n      <td>NaN</td>\n      <td>NaN</td>\n      <td>NaN</td>\n      <td>NaN</td>\n    </tr>\n    <tr>\n      <th>6</th>\n      <td>Arias (MEI)</td>\n      <td>NaN</td>\n      <td>1269</td>\n      <td>29</td>\n      <td>655</td>\n      <td>1290</td>\n      <td>-35</td>\n      <td>1426</td>\n      <td>42.0</td>\n      <td>7.0</td>\n      <td>...</td>\n      <td>NaN</td>\n      <td>1.0</td>\n      <td>5.0</td>\n      <td>NaN</td>\n      <td>NaN</td>\n      <td>41.0</td>\n      <td>9.0</td>\n      <td>1.0</td>\n      <td>NaN</td>\n      <td>NaN</td>\n    </tr>\n    <tr>\n      <th>7</th>\n      <td>Raphael Veiga (MEI)</td>\n      <td>NaN</td>\n      <td>1720</td>\n      <td>31</td>\n      <td>646</td>\n      <td>140</td>\n      <td>-31</td>\n      <td>387</td>\n      <td>20.0</td>\n      <td>9.0</td>\n      <td>...</td>\n      <td>NaN</td>\n      <td>NaN</td>\n      <td>5.0</td>\n      <td>1.0</td>\n      <td>NaN</td>\n      <td>35.0</td>\n      <td>6.0</td>\n      <td>NaN</td>\n      <td>NaN</td>\n      <td>NaN</td>\n    </tr>\n    <tr>\n      <th>8</th>\n      <td>Abel Ferreira (TEC)</td>\n      <td>NaN</td>\n      <td>1483</td>\n      <td>38</td>\n      <td>633</td>\n      <td>347</td>\n      <td>-80</td>\n      <td>815</td>\n      <td>NaN</td>\n      <td>NaN</td>\n      <td>...</td>\n      <td>NaN</td>\n      <td>NaN</td>\n      <td>NaN</td>\n      <td>NaN</td>\n      <td>NaN</td>\n      <td>NaN</td>\n      <td>NaN</td>\n      <td>NaN</td>\n      <td>NaN</td>\n      <td>NaN</td>\n    </tr>\n    <tr>\n      <th>9</th>\n      <td>Marcos Leonardo (ATA)</td>\n      <td>NaN</td>\n      <td>1195</td>\n      <td>30</td>\n      <td>588</td>\n      <td>130</td>\n      <td>21</td>\n      <td>57</td>\n      <td>4.0</td>\n      <td>12.0</td>\n      <td>...</td>\n      <td>NaN</td>\n      <td>NaN</td>\n      <td>3.0</td>\n      <td>NaN</td>\n      <td>NaN</td>\n      <td>36.0</td>\n      <td>23.0</td>\n      <td>1.0</td>\n      <td>NaN</td>\n      <td>NaN</td>\n    </tr>\n    <tr>\n      <th>10</th>\n      <td>Tite (TEC)</td>\n      <td>NaN</td>\n      <td>1193</td>\n      <td>11</td>\n      <td>586</td>\n      <td>241</td>\n      <td>-46</td>\n      <td>487</td>\n      <td>NaN</td>\n      <td>NaN</td>\n      <td>...</td>\n      <td>NaN</td>\n      <td>NaN</td>\n      <td>NaN</td>\n      <td>NaN</td>\n      <td>NaN</td>\n      <td>NaN</td>\n      <td>NaN</td>\n      <td>NaN</td>\n      <td>NaN</td>\n      <td>NaN</td>\n    </tr>\n    <tr>\n      <th>11</th>\n      <td>Pedro Caixinha (TEC)</td>\n      <td>NaN</td>\n      <td>1170</td>\n      <td>36</td>\n      <td>574</td>\n      <td>187</td>\n      <td>-91</td>\n      <td>715</td>\n      <td>NaN</td>\n      <td>NaN</td>\n      <td>...</td>\n      <td>NaN</td>\n      <td>NaN</td>\n      <td>NaN</td>\n      <td>NaN</td>\n      <td>NaN</td>\n      <td>NaN</td>\n      <td>NaN</td>\n      <td>NaN</td>\n      <td>NaN</td>\n      <td>NaN</td>\n    </tr>\n    <tr>\n      <th>12</th>\n      <td>Marcos Rocha (LAT)</td>\n      <td>NaN</td>\n      <td>645</td>\n      <td>20</td>\n      <td>572</td>\n      <td>120</td>\n      <td>-72</td>\n      <td>503</td>\n      <td>34.0</td>\n      <td>1.0</td>\n      <td>...</td>\n      <td>NaN</td>\n      <td>NaN</td>\n      <td>1.0</td>\n      <td>NaN</td>\n      <td>NaN</td>\n      <td>19.0</td>\n      <td>1.0</td>\n      <td>NaN</td>\n      <td>1.0</td>\n      <td>NaN</td>\n    </tr>\n    <tr>\n      <th>13</th>\n      <td>Ayrton Lucas (LAT)</td>\n      <td>NaN</td>\n      <td>1527</td>\n      <td>34</td>\n      <td>569</td>\n      <td>620</td>\n      <td>96</td>\n      <td>114</td>\n      <td>52.0</td>\n      <td>4.0</td>\n      <td>...</td>\n      <td>NaN</td>\n      <td>NaN</td>\n      <td>7.0</td>\n      <td>NaN</td>\n      <td>NaN</td>\n      <td>38.0</td>\n      <td>NaN</td>\n      <td>1.0</td>\n      <td>NaN</td>\n      <td>NaN</td>\n    </tr>\n    <tr>\n      <th>14</th>\n      <td>Luiz Felipe Scolari (TEC)</td>\n      <td>NaN</td>\n      <td>1168</td>\n      <td>28</td>\n      <td>562</td>\n      <td>282</td>\n      <td>-44</td>\n      <td>541</td>\n      <td>NaN</td>\n      <td>NaN</td>\n      <td>...</td>\n      <td>NaN</td>\n      <td>NaN</td>\n      <td>NaN</td>\n      <td>NaN</td>\n      <td>NaN</td>\n      <td>NaN</td>\n      <td>NaN</td>\n      <td>NaN</td>\n      <td>NaN</td>\n      <td>NaN</td>\n    </tr>\n    <tr>\n      <th>15</th>\n      <td>Arrascaeta (MEI)</td>\n      <td>NaN</td>\n      <td>1336</td>\n      <td>27</td>\n      <td>562</td>\n      <td>300</td>\n      <td>-117</td>\n      <td>971</td>\n      <td>26.0</td>\n      <td>6.0</td>\n      <td>...</td>\n      <td>NaN</td>\n      <td>NaN</td>\n      <td>3.0</td>\n      <td>NaN</td>\n      <td>NaN</td>\n      <td>22.0</td>\n      <td>4.0</td>\n      <td>1.0</td>\n      <td>NaN</td>\n      <td>NaN</td>\n    </tr>\n    <tr>\n      <th>16</th>\n      <td>Caíque (GOL)</td>\n      <td>NaN</td>\n      <td>398</td>\n      <td>4</td>\n      <td>562</td>\n      <td>300</td>\n      <td>-44</td>\n      <td>496</td>\n      <td>NaN</td>\n      <td>NaN</td>\n      <td>...</td>\n      <td>NaN</td>\n      <td>NaN</td>\n      <td>NaN</td>\n      <td>NaN</td>\n      <td>3.0</td>\n      <td>NaN</td>\n      <td>NaN</td>\n      <td>NaN</td>\n      <td>NaN</td>\n      <td>NaN</td>\n    </tr>\n    <tr>\n      <th>17</th>\n      <td>Bruno Pacheco (LAT)</td>\n      <td>NaN</td>\n      <td>1091</td>\n      <td>29</td>\n      <td>561</td>\n      <td>50</td>\n      <td>-1</td>\n      <td>119</td>\n      <td>60.0</td>\n      <td>2.0</td>\n      <td>...</td>\n      <td>NaN</td>\n      <td>NaN</td>\n      <td>4.0</td>\n      <td>NaN</td>\n      <td>NaN</td>\n      <td>49.0</td>\n      <td>NaN</td>\n      <td>NaN</td>\n      <td>NaN</td>\n      <td>NaN</td>\n    </tr>\n    <tr>\n      <th>18</th>\n      <td>Enner Valencia (ATA)</td>\n      <td>NaN</td>\n      <td>1118</td>\n      <td>22</td>\n      <td>551</td>\n      <td>770</td>\n      <td>99</td>\n      <td>210</td>\n      <td>7.0</td>\n      <td>9.0</td>\n      <td>...</td>\n      <td>NaN</td>\n      <td>NaN</td>\n      <td>4.0</td>\n      <td>1.0</td>\n      <td>NaN</td>\n      <td>24.0</td>\n      <td>22.0</td>\n      <td>1.0</td>\n      <td>NaN</td>\n      <td>NaN</td>\n    </tr>\n    <tr>\n      <th>19</th>\n      <td>Luan Cândido (LAT)</td>\n      <td>NaN</td>\n      <td>872</td>\n      <td>20</td>\n      <td>548</td>\n      <td>-30</td>\n      <td>-127</td>\n      <td>693</td>\n      <td>20.0</td>\n      <td>1.0</td>\n      <td>...</td>\n      <td>NaN</td>\n      <td>NaN</td>\n      <td>2.0</td>\n      <td>NaN</td>\n      <td>NaN</td>\n      <td>18.0</td>\n      <td>1.0</td>\n      <td>NaN</td>\n      <td>NaN</td>\n      <td>NaN</td>\n    </tr>\n    <tr>\n      <th>20</th>\n      <td>William (LAT)</td>\n      <td>NaN</td>\n      <td>1026</td>\n      <td>30</td>\n      <td>547</td>\n      <td>260</td>\n      <td>-39</td>\n      <td>510</td>\n      <td>61.0</td>\n      <td>NaN</td>\n      <td>...</td>\n      <td>NaN</td>\n      <td>NaN</td>\n      <td>6.0</td>\n      <td>NaN</td>\n      <td>NaN</td>\n      <td>39.0</td>\n      <td>1.0</td>\n      <td>NaN</td>\n      <td>NaN</td>\n      <td>NaN</td>\n    </tr>\n    <tr>\n      <th>21</th>\n      <td>Hugo (LAT)</td>\n      <td>NaN</td>\n      <td>701</td>\n      <td>21</td>\n      <td>547</td>\n      <td>330</td>\n      <td>-50</td>\n      <td>582</td>\n      <td>43.0</td>\n      <td>NaN</td>\n      <td>...</td>\n      <td>NaN</td>\n      <td>NaN</td>\n      <td>1.0</td>\n      <td>NaN</td>\n      <td>NaN</td>\n      <td>29.0</td>\n      <td>NaN</td>\n      <td>NaN</td>\n      <td>NaN</td>\n      <td>NaN</td>\n    </tr>\n    <tr>\n      <th>22</th>\n      <td>Villasanti (MEI)</td>\n      <td>NaN</td>\n      <td>918</td>\n      <td>29</td>\n      <td>540</td>\n      <td>1040</td>\n      <td>116</td>\n      <td>328</td>\n      <td>82.0</td>\n      <td>4.0</td>\n      <td>...</td>\n      <td>NaN</td>\n      <td>1.0</td>\n      <td>6.0</td>\n      <td>NaN</td>\n      <td>NaN</td>\n      <td>53.0</td>\n      <td>1.0</td>\n      <td>NaN</td>\n      <td>NaN</td>\n      <td>NaN</td>\n    </tr>\n    <tr>\n      <th>23</th>\n      <td>Paulo Henrique (LAT)</td>\n      <td>NaN</td>\n      <td>478</td>\n      <td>13</td>\n      <td>537</td>\n      <td>680</td>\n      <td>46</td>\n      <td>426</td>\n      <td>22.0</td>\n      <td>1.0</td>\n      <td>...</td>\n      <td>NaN</td>\n      <td>NaN</td>\n      <td>3.0</td>\n      <td>NaN</td>\n      <td>NaN</td>\n      <td>13.0</td>\n      <td>1.0</td>\n      <td>NaN</td>\n      <td>NaN</td>\n      <td>NaN</td>\n    </tr>\n    <tr>\n      <th>24</th>\n      <td>Paulo Autuori (TEC)</td>\n      <td>NaN</td>\n      <td>1153</td>\n      <td>4</td>\n      <td>536</td>\n      <td>402</td>\n      <td>-9</td>\n      <td>494</td>\n      <td>NaN</td>\n      <td>NaN</td>\n      <td>...</td>\n      <td>NaN</td>\n      <td>NaN</td>\n      <td>NaN</td>\n      <td>NaN</td>\n      <td>NaN</td>\n      <td>NaN</td>\n      <td>NaN</td>\n      <td>NaN</td>\n      <td>NaN</td>\n      <td>NaN</td>\n    </tr>\n    <tr>\n      <th>25</th>\n      <td>Clayson (ATA)</td>\n      <td>NaN</td>\n      <td>1059</td>\n      <td>21</td>\n      <td>534</td>\n      <td>1960</td>\n      <td>214</td>\n      <td>691</td>\n      <td>17.0</td>\n      <td>7.0</td>\n      <td>...</td>\n      <td>NaN</td>\n      <td>1.0</td>\n      <td>1.0</td>\n      <td>NaN</td>\n      <td>NaN</td>\n      <td>17.0</td>\n      <td>4.0</td>\n      <td>1.0</td>\n      <td>NaN</td>\n      <td>NaN</td>\n    </tr>\n    <tr>\n      <th>26</th>\n      <td>Bustos (LAT)</td>\n      <td>NaN</td>\n      <td>846</td>\n      <td>29</td>\n      <td>532</td>\n      <td>110</td>\n      <td>-72</td>\n      <td>517</td>\n      <td>52.0</td>\n      <td>3.0</td>\n      <td>...</td>\n      <td>NaN</td>\n      <td>NaN</td>\n      <td>4.0</td>\n      <td>NaN</td>\n      <td>NaN</td>\n      <td>35.0</td>\n      <td>1.0</td>\n      <td>NaN</td>\n      <td>NaN</td>\n      <td>NaN</td>\n    </tr>\n    <tr>\n      <th>27</th>\n      <td>Renato Gaúcho (TEC)</td>\n      <td>NaN</td>\n      <td>1353</td>\n      <td>37</td>\n      <td>530</td>\n      <td>609</td>\n      <td>-16</td>\n      <td>704</td>\n      <td>NaN</td>\n      <td>NaN</td>\n      <td>...</td>\n      <td>NaN</td>\n      <td>NaN</td>\n      <td>NaN</td>\n      <td>NaN</td>\n      <td>NaN</td>\n      <td>NaN</td>\n      <td>NaN</td>\n      <td>NaN</td>\n      <td>NaN</td>\n      <td>NaN</td>\n    </tr>\n    <tr>\n      <th>28</th>\n      <td>Eduardo Sasha (ATA)</td>\n      <td>NaN</td>\n      <td>1094</td>\n      <td>32</td>\n      <td>530</td>\n      <td>-100</td>\n      <td>-112</td>\n      <td>573</td>\n      <td>12.0</td>\n      <td>11.0</td>\n      <td>...</td>\n      <td>NaN</td>\n      <td>NaN</td>\n      <td>4.0</td>\n      <td>NaN</td>\n      <td>NaN</td>\n      <td>22.0</td>\n      <td>9.0</td>\n      <td>NaN</td>\n      <td>NaN</td>\n      <td>NaN</td>\n    </tr>\n    <tr>\n      <th>29</th>\n      <td>Gabriel Pec (ATA)</td>\n      <td>NaN</td>\n      <td>1461</td>\n      <td>34</td>\n      <td>527</td>\n      <td>210</td>\n      <td>3</td>\n      <td>253</td>\n      <td>38.0</td>\n      <td>7.0</td>\n      <td>...</td>\n      <td>NaN</td>\n      <td>NaN</td>\n      <td>6.0</td>\n      <td>NaN</td>\n      <td>NaN</td>\n      <td>34.0</td>\n      <td>6.0</td>\n      <td>NaN</td>\n      <td>NaN</td>\n      <td>NaN</td>\n    </tr>\n    <tr>\n      <th>30</th>\n      <td>Arboleda (ZAG)</td>\n      <td>NaN</td>\n      <td>964</td>\n      <td>20</td>\n      <td>516</td>\n      <td>850</td>\n      <td>121</td>\n      <td>142</td>\n      <td>27.0</td>\n      <td>NaN</td>\n      <td>...</td>\n      <td>NaN</td>\n      <td>1.0</td>\n      <td>1.0</td>\n      <td>NaN</td>\n      <td>NaN</td>\n      <td>7.0</td>\n      <td>5.0</td>\n      <td>NaN</td>\n      <td>NaN</td>\n      <td>NaN</td>\n    </tr>\n    <tr>\n      <th>31</th>\n      <td>Bruno Rodrigues (ATA)</td>\n      <td>NaN</td>\n      <td>1256</td>\n      <td>33</td>\n      <td>516</td>\n      <td>390</td>\n      <td>57</td>\n      <td>109</td>\n      <td>30.0</td>\n      <td>6.0</td>\n      <td>...</td>\n      <td>NaN</td>\n      <td>NaN</td>\n      <td>4.0</td>\n      <td>2.0</td>\n      <td>NaN</td>\n      <td>23.0</td>\n      <td>26.0</td>\n      <td>2.0</td>\n      <td>NaN</td>\n      <td>NaN</td>\n    </tr>\n    <tr>\n      <th>32</th>\n      <td>Dorival Júnior (TEC)</td>\n      <td>NaN</td>\n      <td>1248</td>\n      <td>35</td>\n      <td>515</td>\n      <td>861</td>\n      <td>79</td>\n      <td>405</td>\n      <td>NaN</td>\n      <td>NaN</td>\n      <td>...</td>\n      <td>NaN</td>\n      <td>NaN</td>\n      <td>NaN</td>\n      <td>NaN</td>\n      <td>NaN</td>\n      <td>NaN</td>\n      <td>NaN</td>\n      <td>NaN</td>\n      <td>NaN</td>\n      <td>NaN</td>\n    </tr>\n    <tr>\n      <th>33</th>\n      <td>Marcelo (LAT)</td>\n      <td>NaN</td>\n      <td>1229</td>\n      <td>18</td>\n      <td>514</td>\n      <td>210</td>\n      <td>-40</td>\n      <td>488</td>\n      <td>24.0</td>\n      <td>1.0</td>\n      <td>...</td>\n      <td>NaN</td>\n      <td>NaN</td>\n      <td>3.0</td>\n      <td>NaN</td>\n      <td>NaN</td>\n      <td>7.0</td>\n      <td>1.0</td>\n      <td>NaN</td>\n      <td>NaN</td>\n      <td>NaN</td>\n    </tr>\n    <tr>\n      <th>34</th>\n      <td>Maurício (MEI)</td>\n      <td>NaN</td>\n      <td>1025</td>\n      <td>26</td>\n      <td>514</td>\n      <td>1080</td>\n      <td>8</td>\n      <td>963</td>\n      <td>15.0</td>\n      <td>6.0</td>\n      <td>...</td>\n      <td>NaN</td>\n      <td>NaN</td>\n      <td>4.0</td>\n      <td>NaN</td>\n      <td>NaN</td>\n      <td>17.0</td>\n      <td>4.0</td>\n      <td>1.0</td>\n      <td>NaN</td>\n      <td>NaN</td>\n    </tr>\n    <tr>\n      <th>35</th>\n      <td>Ramón Díaz (TEC)</td>\n      <td>NaN</td>\n      <td>1028</td>\n      <td>21</td>\n      <td>511</td>\n      <td>583</td>\n      <td>57</td>\n      <td>270</td>\n      <td>NaN</td>\n      <td>NaN</td>\n      <td>...</td>\n      <td>NaN</td>\n      <td>NaN</td>\n      <td>NaN</td>\n      <td>NaN</td>\n      <td>NaN</td>\n      <td>NaN</td>\n      <td>NaN</td>\n      <td>NaN</td>\n      <td>NaN</td>\n      <td>NaN</td>\n    </tr>\n    <tr>\n      <th>36</th>\n      <td>António Oliveira (TEC)</td>\n      <td>NaN</td>\n      <td>906</td>\n      <td>31</td>\n      <td>511</td>\n      <td>824</td>\n      <td>100</td>\n      <td>230</td>\n      <td>NaN</td>\n      <td>NaN</td>\n      <td>...</td>\n      <td>NaN</td>\n      <td>NaN</td>\n      <td>NaN</td>\n      <td>NaN</td>\n      <td>NaN</td>\n      <td>NaN</td>\n      <td>NaN</td>\n      <td>NaN</td>\n      <td>NaN</td>\n      <td>NaN</td>\n    </tr>\n    <tr>\n      <th>37</th>\n      <td>Murilo (ZAG)</td>\n      <td>NaN</td>\n      <td>985</td>\n      <td>25</td>\n      <td>510</td>\n      <td>150</td>\n      <td>-136</td>\n      <td>916</td>\n      <td>35.0</td>\n      <td>3.0</td>\n      <td>...</td>\n      <td>NaN</td>\n      <td>1.0</td>\n      <td>4.0</td>\n      <td>NaN</td>\n      <td>NaN</td>\n      <td>32.0</td>\n      <td>2.0</td>\n      <td>NaN</td>\n      <td>NaN</td>\n      <td>NaN</td>\n    </tr>\n    <tr>\n      <th>38</th>\n      <td>Pepê (MEI)</td>\n      <td>NaN</td>\n      <td>787</td>\n      <td>17</td>\n      <td>509</td>\n      <td>820</td>\n      <td>58</td>\n      <td>441</td>\n      <td>42.0</td>\n      <td>1.0</td>\n      <td>...</td>\n      <td>NaN</td>\n      <td>NaN</td>\n      <td>1.0</td>\n      <td>NaN</td>\n      <td>NaN</td>\n      <td>27.0</td>\n      <td>1.0</td>\n      <td>NaN</td>\n      <td>NaN</td>\n      <td>NaN</td>\n    </tr>\n    <tr>\n      <th>39</th>\n      <td>Fernando Diniz (TEC)</td>\n      <td>NaN</td>\n      <td>1423</td>\n      <td>36</td>\n      <td>504</td>\n      <td>481</td>\n      <td>47</td>\n      <td>254</td>\n      <td>NaN</td>\n      <td>NaN</td>\n      <td>...</td>\n      <td>NaN</td>\n      <td>NaN</td>\n      <td>NaN</td>\n      <td>NaN</td>\n      <td>NaN</td>\n      <td>NaN</td>\n      <td>NaN</td>\n      <td>NaN</td>\n      <td>NaN</td>\n      <td>NaN</td>\n    </tr>\n    <tr>\n      <th>40</th>\n      <td>Zé Rafael (MEI)</td>\n      <td>NaN</td>\n      <td>1121</td>\n      <td>31</td>\n      <td>503</td>\n      <td>500</td>\n      <td>-42</td>\n      <td>729</td>\n      <td>76.0</td>\n      <td>3.0</td>\n      <td>...</td>\n      <td>NaN</td>\n      <td>NaN</td>\n      <td>10.0</td>\n      <td>NaN</td>\n      <td>NaN</td>\n      <td>62.0</td>\n      <td>1.0</td>\n      <td>1.0</td>\n      <td>NaN</td>\n      <td>NaN</td>\n    </tr>\n    <tr>\n      <th>41</th>\n      <td>Eduardo Coudet (TEC)</td>\n      <td>NaN</td>\n      <td>1180</td>\n      <td>33</td>\n      <td>501</td>\n      <td>609</td>\n      <td>29</td>\n      <td>449</td>\n      <td>NaN</td>\n      <td>NaN</td>\n      <td>...</td>\n      <td>NaN</td>\n      <td>NaN</td>\n      <td>NaN</td>\n      <td>NaN</td>\n      <td>NaN</td>\n      <td>NaN</td>\n      <td>NaN</td>\n      <td>NaN</td>\n      <td>NaN</td>\n      <td>NaN</td>\n    </tr>\n    <tr>\n      <th>42</th>\n      <td>Juan Vojvoda (TEC)</td>\n      <td>NaN</td>\n      <td>1285</td>\n      <td>36</td>\n      <td>499</td>\n      <td>547</td>\n      <td>-13</td>\n      <td>630</td>\n      <td>NaN</td>\n      <td>NaN</td>\n      <td>...</td>\n      <td>NaN</td>\n      <td>NaN</td>\n      <td>NaN</td>\n      <td>NaN</td>\n      <td>NaN</td>\n      <td>NaN</td>\n      <td>NaN</td>\n      <td>NaN</td>\n      <td>NaN</td>\n      <td>NaN</td>\n    </tr>\n    <tr>\n      <th>43</th>\n      <td>Pedro (ATA)</td>\n      <td>NaN</td>\n      <td>1247</td>\n      <td>33</td>\n      <td>496</td>\n      <td>250</td>\n      <td>-92</td>\n      <td>796</td>\n      <td>15.0</td>\n      <td>13.0</td>\n      <td>...</td>\n      <td>NaN</td>\n      <td>NaN</td>\n      <td>1.0</td>\n      <td>NaN</td>\n      <td>NaN</td>\n      <td>17.0</td>\n      <td>2.0</td>\n      <td>1.0</td>\n      <td>NaN</td>\n      <td>NaN</td>\n    </tr>\n    <tr>\n      <th>44</th>\n      <td>Raniele (MEI)</td>\n      <td>NaN</td>\n      <td>1248</td>\n      <td>33</td>\n      <td>492</td>\n      <td>500</td>\n      <td>53</td>\n      <td>229</td>\n      <td>74.0</td>\n      <td>3.0</td>\n      <td>...</td>\n      <td>NaN</td>\n      <td>NaN</td>\n      <td>10.0</td>\n      <td>NaN</td>\n      <td>NaN</td>\n      <td>35.0</td>\n      <td>1.0</td>\n      <td>NaN</td>\n      <td>1.0</td>\n      <td>NaN</td>\n    </tr>\n    <tr>\n      <th>45</th>\n      <td>Caio Paulista (LAT)</td>\n      <td>NaN</td>\n      <td>1027</td>\n      <td>28</td>\n      <td>489</td>\n      <td>740</td>\n      <td>81</td>\n      <td>272</td>\n      <td>26.0</td>\n      <td>1.0</td>\n      <td>...</td>\n      <td>NaN</td>\n      <td>NaN</td>\n      <td>4.0</td>\n      <td>NaN</td>\n      <td>NaN</td>\n      <td>17.0</td>\n      <td>NaN</td>\n      <td>1.0</td>\n      <td>1.0</td>\n      <td>NaN</td>\n    </tr>\n    <tr>\n      <th>46</th>\n      <td>Mano Menezes (TEC)</td>\n      <td>NaN</td>\n      <td>1170</td>\n      <td>27</td>\n      <td>488</td>\n      <td>828</td>\n      <td>97</td>\n      <td>274</td>\n      <td>NaN</td>\n      <td>NaN</td>\n      <td>...</td>\n      <td>NaN</td>\n      <td>NaN</td>\n      <td>NaN</td>\n      <td>NaN</td>\n      <td>NaN</td>\n      <td>NaN</td>\n      <td>NaN</td>\n      <td>NaN</td>\n      <td>NaN</td>\n      <td>NaN</td>\n    </tr>\n    <tr>\n      <th>47</th>\n      <td>Wesley Carvalho (TEC)</td>\n      <td>NaN</td>\n      <td>1144</td>\n      <td>27</td>\n      <td>487</td>\n      <td>164</td>\n      <td>-95</td>\n      <td>720</td>\n      <td>NaN</td>\n      <td>NaN</td>\n      <td>...</td>\n      <td>NaN</td>\n      <td>NaN</td>\n      <td>NaN</td>\n      <td>NaN</td>\n      <td>NaN</td>\n      <td>NaN</td>\n      <td>NaN</td>\n      <td>NaN</td>\n      <td>NaN</td>\n      <td>NaN</td>\n    </tr>\n    <tr>\n      <th>48</th>\n      <td>Renê (LAT)</td>\n      <td>NaN</td>\n      <td>961</td>\n      <td>28</td>\n      <td>481</td>\n      <td>100</td>\n      <td>-34</td>\n      <td>323</td>\n      <td>52.0</td>\n      <td>1.0</td>\n      <td>...</td>\n      <td>NaN</td>\n      <td>NaN</td>\n      <td>5.0</td>\n      <td>NaN</td>\n      <td>NaN</td>\n      <td>21.0</td>\n      <td>1.0</td>\n      <td>NaN</td>\n      <td>NaN</td>\n      <td>NaN</td>\n    </tr>\n    <tr>\n      <th>49</th>\n      <td>Léo Ortiz (ZAG)</td>\n      <td>NaN</td>\n      <td>892</td>\n      <td>19</td>\n      <td>481</td>\n      <td>850</td>\n      <td>-88</td>\n      <td>1274</td>\n      <td>23.0</td>\n      <td>2.0</td>\n      <td>...</td>\n      <td>1.0</td>\n      <td>NaN</td>\n      <td>3.0</td>\n      <td>NaN</td>\n      <td>NaN</td>\n      <td>12.0</td>\n      <td>NaN</td>\n      <td>NaN</td>\n      <td>1.0</td>\n      <td>NaN</td>\n    </tr>\n    <tr>\n      <th>50</th>\n      <td>12345</td>\n      <td>12345.0</td>\n      <td>12345</td>\n      <td>12345</td>\n      <td>12345</td>\n      <td>12345</td>\n      <td>12345</td>\n      <td>12345</td>\n      <td>12345.0</td>\n      <td>12345.0</td>\n      <td>...</td>\n      <td>12345.0</td>\n      <td>12345.0</td>\n      <td>12345.0</td>\n      <td>12345.0</td>\n      <td>12345.0</td>\n      <td>12345.0</td>\n      <td>12345.0</td>\n      <td>12345.0</td>\n      <td>12345.0</td>\n      <td>12345.0</td>\n    </tr>\n  </tbody>\n</table>\n<p>51 rows × 28 columns</p>\n</div>"
     },
     "execution_count": 4,
     "metadata": {},
     "output_type": "execute_result"
    }
   ],
   "source": [
    "df"
   ]
  },
  {
   "cell_type": "code",
   "execution_count": 5,
   "metadata": {
    "ExecuteTime": {
     "end_time": "2024-01-31T03:04:19.178923300Z",
     "start_time": "2024-01-31T03:04:18.121280Z"
    }
   },
   "outputs": [
    {
     "name": "stdout",
     "output_type": "stream",
     "text": [
      "    Luis Suárez (ATA)\n",
      "           Hulk (ATA)\n",
      "        Vegetti (ATA)\n",
      "       Paulinho (ATA)\n",
      "Marcos Leonardo (ATA)\n",
      " Enner Valencia (ATA)\n",
      "        Clayson (ATA)\n",
      "  Eduardo Sasha (ATA)\n",
      "    Gabriel Pec (ATA)\n",
      "Bruno Rodrigues (ATA)\n",
      "          Pedro (ATA)\n"
     ]
    },
    {
     "name": "stderr",
     "output_type": "stream",
     "text": [
      "C:\\Users\\leona\\AppData\\Local\\Temp\\ipykernel_12004\\3054507000.py:5: UserWarning: This pattern is interpreted as a regular expression, and has match groups. To actually get the groups, use str.extract.\n",
      "  nomes = df[df['Nome'].str.contains('(ATA)')]['Nome']  # Filtra os nomes que contêm \"(ATA)\"\n"
     ]
    }
   ],
   "source": [
    "import pandas as pd\n",
    "import requests\n",
    "\n",
    "def filtrar_nomes_com_ata(df):\n",
    "    nomes = df[df['Nome'].str.contains('(ATA)')]['Nome']  # Filtra os nomes que contêm \"(ATA)\"\n",
    "    return nomes\n",
    "\n",
    "# Exemplo de uso\n",
    "header = {'User-Agent': 'Mozilla/5.0 (Windows NT 10.0; Win64; x64) AppleWebKit/537.36 (KHTML, like Gecko) Chrome/112.0.0.0 Safari/537.36'}\n",
    "\n",
    "url = 'https://www.cartolafcbrasil.com.br/scouts'\n",
    "request = requests.get(url, headers=header)\n",
    "df = pd.read_html(request.text)[0]  # Assume que a tabela desejada é a primeira encontrada\n",
    "\n",
    "nomes_filtrados = filtrar_nomes_com_ata(df)\n",
    "print(nomes_filtrados.to_string(index=False))"
   ]
  },
  {
   "cell_type": "code",
   "execution_count": 12,
   "metadata": {
    "ExecuteTime": {
     "end_time": "2024-01-31T03:07:01.995660500Z",
     "start_time": "2024-01-31T03:07:01.013418600Z"
    }
   },
   "outputs": [
    {
     "name": "stdout",
     "output_type": "stream",
     "text": [
      "       Clayson (ATA)\n",
      " Eduardo Sasha (ATA)\n",
      "Enner Valencia (ATA)\n"
     ]
    },
    {
     "name": "stderr",
     "output_type": "stream",
     "text": [
      "C:\\Users\\leona\\AppData\\Local\\Temp\\ipykernel_12004\\183255623.py:5: UserWarning: This pattern is interpreted as a regular expression, and has match groups. To actually get the groups, use str.extract.\n",
      "  nomes_filtrados = dataframe[dataframe['Nome'].str.contains('(ATA)')]\n"
     ]
    }
   ],
   "source": [
    "import pandas as pd\n",
    "import requests\n",
    "\n",
    "def obter_melhores_nomes(dataframe):\n",
    "    nomes_filtrados = dataframe[dataframe['Nome'].str.contains('(ATA)')]\n",
    "    nomes_filtrados = nomes_filtrados.sort_values(by=['Preço', 'J', 'Média', 'Últ. Pont.', 'Variação', 'MPV', 'DS', 'G', 'A', 'SG', 'FS', 'FF', 'FD', 'FT', 'DE', 'DP', 'GC', 'CV', 'CA', 'PP', 'GS', 'FC', 'I', 'PS', 'PC', 'PI'], ascending=[ True, False, False, False, False, False, False, False, False, False, False, False, False, False, False, False, False, False, False, False, False, False, False, False, False, False])\n",
    "    melhores_nomes1 = nomes_filtrados.head(3)['Nome']\n",
    "    return melhores_nomes1\n",
    "\n",
    "header = {'User-Agent': 'Mozilla/5.0 (Windows NT 10.0; Win64; x64) AppleWebKit/537.36 (KHTML, like Gecko) Chrome/112.0.0.0 Safari/537.36'}\n",
    "\n",
    "url = 'https://www.cartolafcbrasil.com.br/scouts'\n",
    "request = requests.get(url, headers=header)\n",
    "df = pd.read_html(request.text)[0] \n",
    "\n",
    "melhores_nomes1 = obter_melhores_nomes(df)\n",
    "print(melhores_nomes1.to_string(index=False))"
   ]
  },
  {
   "cell_type": "code",
   "execution_count": 13,
   "metadata": {
    "ExecuteTime": {
     "end_time": "2024-01-31T03:07:06.209975200Z",
     "start_time": "2024-01-31T03:07:05.255904600Z"
    }
   },
   "outputs": [
    {
     "name": "stdout",
     "output_type": "stream",
     "text": [
      "      Pepê (MEI)\n",
      "Villasanti (MEI)\n",
      "  Maurício (MEI)\n"
     ]
    },
    {
     "name": "stderr",
     "output_type": "stream",
     "text": [
      "C:\\Users\\leona\\AppData\\Local\\Temp\\ipykernel_12004\\3812433110.py:5: UserWarning: This pattern is interpreted as a regular expression, and has match groups. To actually get the groups, use str.extract.\n",
      "  nomes_filtrados = dataframe[dataframe['Nome'].str.contains('(MEI)')]\n"
     ]
    }
   ],
   "source": [
    "import pandas as pd\n",
    "import requests\n",
    "\n",
    "def obter_melhores_nomes(dataframe):\n",
    "    nomes_filtrados = dataframe[dataframe['Nome'].str.contains('(MEI)')]\n",
    "    nomes_filtrados = nomes_filtrados.sort_values(by=[ 'Preço', 'J', 'Média', 'Últ. Pont.', 'Variação', 'MPV', 'DS', 'G', 'A', 'SG', 'FS', 'FF', 'FD', 'FT', 'DE', 'DP', 'GC', 'CV', 'CA', 'PP', 'GS', 'FC', 'I', 'PS', 'PC', 'PI'], ascending=[ True, False, False, False, False, False, False, False, False, False, False, False, False, False, False, False, False, False, False, False, False, False, False, False, False, False])\n",
    "    melhores_nomes2 = nomes_filtrados.head(3)['Nome']\n",
    "    return melhores_nomes2\n",
    "\n",
    "header = {'User-Agent': 'Mozilla/5.0 (Windows NT 10.0; Win64; x64) AppleWebKit/537.36 (KHTML, like Gecko) Chrome/112.0.0.0 Safari/537.36'}\n",
    "\n",
    "url = 'https://www.cartolafcbrasil.com.br/scouts'\n",
    "request = requests.get(url, headers=header)\n",
    "df = pd.read_html(request.text)[0] \n",
    "\n",
    "melhores_nomes2 = obter_melhores_nomes(df)\n",
    "print(melhores_nomes2.to_string(index=False))"
   ]
  },
  {
   "cell_type": "code",
   "execution_count": 22,
   "metadata": {
    "ExecuteTime": {
     "end_time": "2024-01-31T03:12:38.465625500Z",
     "start_time": "2024-01-31T03:12:37.380020800Z"
    }
   },
   "outputs": [
    {
     "name": "stdout",
     "output_type": "stream",
     "text": [
      "Léo Ortiz (ZAG)\n",
      " Arboleda (ZAG)\n"
     ]
    },
    {
     "name": "stderr",
     "output_type": "stream",
     "text": [
      "C:\\Users\\leona\\AppData\\Local\\Temp\\ipykernel_12004\\3156566629.py:5: UserWarning: This pattern is interpreted as a regular expression, and has match groups. To actually get the groups, use str.extract.\n",
      "  nomes_filtrados = dataframe[dataframe['Nome'].str.contains('(ZAG)')]\n"
     ]
    }
   ],
   "source": [
    "import pandas as pd\n",
    "import requests\n",
    "\n",
    "def obter_melhores_nomes(dataframe):\n",
    "    nomes_filtrados = dataframe[dataframe['Nome'].str.contains('(ZAG)')]\n",
    "    nomes_filtrados = nomes_filtrados.sort_values(by=[ 'Preço', 'J', 'Média', 'Últ. Pont.', 'Variação', 'MPV', 'DS', 'G', 'A', 'SG', 'FS', 'FF', 'FD', 'FT', 'DE', 'DP', 'GC', 'CV', 'CA', 'PP', 'GS', 'FC', 'I', 'PS', 'PC', 'PI'], ascending=[ True, False, False, False, False, False, False, False, False, False, False, False, False, False, False, False, False, False, False, False, False, False, False, False, False, False])\n",
    "    melhores_nomes3 = nomes_filtrados.head(2)['Nome']\n",
    "    return melhores_nomes3\n",
    "\n",
    "header = {'User-Agent': 'Mozilla/5.0 (Windows NT 10.0; Win64; x64) AppleWebKit/537.36 (KHTML, like Gecko) Chrome/112.0.0.0 Safari/537.36'}\n",
    "\n",
    "url = 'https://www.cartolafcbrasil.com.br/scouts'\n",
    "request = requests.get(url, headers=header)\n",
    "df = pd.read_html(request.text)[0] \n",
    "\n",
    "melhores_nomes3 = obter_melhores_nomes(df)\n",
    "print(melhores_nomes3.to_string(index=False))"
   ]
  },
  {
   "cell_type": "code",
   "execution_count": 14,
   "metadata": {
    "ExecuteTime": {
     "end_time": "2024-01-31T03:07:09.222435700Z",
     "start_time": "2024-01-31T03:07:08.300816100Z"
    }
   },
   "outputs": [
    {
     "name": "stdout",
     "output_type": "stream",
     "text": [
      "Paulo Henrique (LAT)\n",
      "  Marcos Rocha (LAT)\n"
     ]
    },
    {
     "name": "stderr",
     "output_type": "stream",
     "text": [
      "C:\\Users\\leona\\AppData\\Local\\Temp\\ipykernel_12004\\213321706.py:5: UserWarning: This pattern is interpreted as a regular expression, and has match groups. To actually get the groups, use str.extract.\n",
      "  nomes_filtrados = dataframe[dataframe['Nome'].str.contains('(LAT)')]\n"
     ]
    }
   ],
   "source": [
    "import pandas as pd\n",
    "import requests\n",
    "\n",
    "def obter_melhores_nomes(dataframe):\n",
    "    nomes_filtrados = dataframe[dataframe['Nome'].str.contains('(LAT)')]\n",
    "    nomes_filtrados = nomes_filtrados.sort_values(by=[ 'Preço', 'J', 'Média', 'Últ. Pont.', 'Variação', 'MPV', 'DS', 'G', 'A', 'SG', 'FS', 'FF', 'FD', 'FT', 'DE', 'DP', 'GC', 'CV', 'CA', 'PP', 'GS', 'FC', 'I', 'PS', 'PC', 'PI'], ascending=[ True, False, False, False, False, False, False, False, False, False, False, False, False, False, False, False, False, False, False, False, False, False, False, False, False, False])\n",
    "    melhores_nomes4 = nomes_filtrados.head(2)['Nome']\n",
    "    return melhores_nomes4\n",
    "\n",
    "header = {'User-Agent': 'Mozilla/5.0 (Windows NT 10.0; Win64; x64) AppleWebKit/537.36 (KHTML, like Gecko) Chrome/112.0.0.0 Safari/537.36'}\n",
    "\n",
    "url = 'https://www.cartolafcbrasil.com.br/scouts'\n",
    "request = requests.get(url, headers=header)\n",
    "df = pd.read_html(request.text)[0] \n",
    "\n",
    "melhores_nomes4 = obter_melhores_nomes(df)\n",
    "print(melhores_nomes4.to_string(index=False))"
   ]
  },
  {
   "cell_type": "code",
   "execution_count": 15,
   "metadata": {
    "ExecuteTime": {
     "end_time": "2024-01-31T03:07:12.763132100Z",
     "start_time": "2024-01-31T03:07:11.763537100Z"
    }
   },
   "outputs": [
    {
     "name": "stdout",
     "output_type": "stream",
     "text": [
      "Carlos Miguel (GOL)\n"
     ]
    },
    {
     "name": "stderr",
     "output_type": "stream",
     "text": [
      "C:\\Users\\leona\\AppData\\Local\\Temp\\ipykernel_12004\\3362320923.py:5: UserWarning: This pattern is interpreted as a regular expression, and has match groups. To actually get the groups, use str.extract.\n",
      "  nomes_filtrados = dataframe[dataframe['Nome'].str.contains('(GOL)')]\n"
     ]
    }
   ],
   "source": [
    "import pandas as pd\n",
    "import requests\n",
    "\n",
    "def obter_melhores_nomes(dataframe):\n",
    "    nomes_filtrados = dataframe[dataframe['Nome'].str.contains('(GOL)')]\n",
    "    nomes_filtrados = nomes_filtrados.sort_values(by=[ 'Preço', 'J', 'Média', 'Últ. Pont.', 'Variação', 'MPV', 'DS', 'G', 'A', 'SG', 'FS', 'FF', 'FD', 'FT', 'DE', 'DP', 'GC', 'CV', 'CA', 'PP', 'GS', 'FC', 'I', 'PS', 'PC', 'PI'], ascending=[ True, False, False, False, False, False, False, False, False, False, False, False, False, False, False, False, False, False, False, False, False, False, False, False, False, False])\n",
    "    melhores_nomes5 = nomes_filtrados.head(1)['Nome']\n",
    "    return melhores_nomes5\n",
    "\n",
    "header = {'User-Agent': 'Mozilla/5.0 (Windows NT 10.0; Win64; x64) AppleWebKit/537.36 (KHTML, like Gecko) Chrome/112.0.0.0 Safari/537.36'}\n",
    "\n",
    "url = 'https://www.cartolafcbrasil.com.br/scouts'\n",
    "request = requests.get(url, headers=header)\n",
    "df = pd.read_html(request.text)[0] \n",
    "\n",
    "melhores_nomes5 = obter_melhores_nomes(df)\n",
    "print(melhores_nomes5.to_string(index=False))"
   ]
  },
  {
   "cell_type": "markdown",
   "source": [
    "TIME:"
   ],
   "metadata": {
    "collapsed": false
   }
  },
  {
   "cell_type": "code",
   "outputs": [
    {
     "name": "stdout",
     "output_type": "stream",
     "text": [
      "       Clayson (ATA)\n",
      " Eduardo Sasha (ATA)\n",
      "Enner Valencia (ATA)\n",
      "      Pepê (MEI)\n",
      "Villasanti (MEI)\n",
      "  Maurício (MEI)\n",
      "Léo Ortiz (ZAG)\n",
      " Arboleda (ZAG)\n",
      "Paulo Henrique (LAT)\n",
      "  Marcos Rocha (LAT)\n",
      "Carlos Miguel (GOL)\n"
     ]
    }
   ],
   "source": [
    "print(melhores_nomes1.to_string(index=False))\n",
    "print(melhores_nomes2.to_string(index=False))\n",
    "print(melhores_nomes3.to_string(index=False))\n",
    "print(melhores_nomes4.to_string(index=False))\n",
    "print(melhores_nomes5.to_string(index=False))\n",
    "print(melhores_nomes5.to_string(index=False))"
   ],
   "metadata": {
    "collapsed": false,
    "ExecuteTime": {
     "end_time": "2024-01-31T03:12:47.892140300Z",
     "start_time": "2024-01-31T03:12:47.874140700Z"
    }
   },
   "execution_count": 23
  },
  {
   "cell_type": "code",
   "outputs": [],
   "source": [],
   "metadata": {
    "collapsed": false
   }
  }
 ],
 "metadata": {
  "kernelspec": {
   "display_name": "Python 3",
   "language": "python",
   "name": "python3"
  },
  "language_info": {
   "codemirror_mode": {
    "name": "ipython",
    "version": 3
   },
   "file_extension": ".py",
   "mimetype": "text/x-python",
   "name": "python",
   "nbconvert_exporter": "python",
   "pygments_lexer": "ipython3",
   "version": "3.11.4"
  }
 },
 "nbformat": 4,
 "nbformat_minor": 2
}
